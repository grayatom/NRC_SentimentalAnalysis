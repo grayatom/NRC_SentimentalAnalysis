{
 "cells": [
  {
   "cell_type": "code",
   "execution_count": null,
   "metadata": {},
   "outputs": [],
   "source": [
    "## ToDo:\n",
    "## Standardize retrieved json file (done)\n",
    "## Load json file\n",
    "## Access \"text\" field of each record in json file. Store only text field in a variable.\n",
    "## For each text string, do preprocessing.\n",
    "    ## Remove hashtags\n",
    "    ## Remove URLs\n",
    "    ## Remove Usernames\n",
    "    ## Remove punctuation (last step of preprocessing)\n",
    "## Analyze sentiment score of each preprocessed string.\n",
    "## Store each preprocessed string and its sentiment score in a csv file"
   ]
  },
  {
   "cell_type": "code",
   "execution_count": 32,
   "metadata": {},
   "outputs": [],
   "source": [
    "\n",
    "\n",
    "import json # for reading the dataset in json format\n",
    "with open('nrc.json') as f:\n",
    "  data = json.load(f)\n",
    "#print(data)"
   ]
  },
  {
   "cell_type": "code",
   "execution_count": null,
   "metadata": {},
   "outputs": [],
   "source": []
  },
  {
   "cell_type": "code",
   "execution_count": 60,
   "metadata": {},
   "outputs": [
    {
     "name": "stdout",
     "output_type": "stream",
     "text": [
      "RT @Faizan0008: Check Page No. 35 from this NPR manual. Ramazan,  Milad un Nabi, Muharram....all Muslim festivals removed from list of Indi…\n"
     ]
    }
   ],
   "source": [
    "# print the first tweet. Tweets are stored in the json file in a list named \"tweets\".\n",
    "# This list \"tweets\" is a list of dictionaries. Each element of this dictionary represents a single\n",
    "# tweet. We are only interested in the \"text\" field of each tweet that contains the actual message\n",
    "# of the tweet. Following line prints the text field of the first tweet in the dataset.\n",
    "print(data['tweets'][0]['text'])"
   ]
  },
  {
   "cell_type": "code",
   "execution_count": null,
   "metadata": {},
   "outputs": [],
   "source": []
  },
  {
   "cell_type": "code",
   "execution_count": 51,
   "metadata": {},
   "outputs": [],
   "source": [
    "import string # for searching punctuation marks in a tweet text.\n",
    "from nltk.corpus import stopwords # for searching english stopwords in the tweet text.\n",
    "import nltk # For getting stopwords. \n",
    "import re # Regular Expressions: for url pattern searchig in the tweet text.\n",
    "from textblob import TextBlob # for getting the sentiment polarity of the tweet text.\n",
    "# nltk.download('stopwords') #needed only during first run"
   ]
  },
  {
   "cell_type": "code",
   "execution_count": 67,
   "metadata": {},
   "outputs": [
    {
     "name": "stdout",
     "output_type": "stream",
     "text": [
      "..............................positive sentiments: 61708\n",
      "negative sentiments: 23514\n",
      "neutral sentiments: 216972\n"
     ]
    }
   ],
   "source": [
    "\n",
    "testCounter = 0 # to count number of tweets processed\n",
    "pSentiment = 0 # List of tweets with positive sentiment (sentiment > 0)\n",
    "nSentiment = 0 # List of tweets with negative sentiment (sentiment < 0)\n",
    "neutralS = 0 # List of tweets with neutral sentiment (sentiment == 0)\n",
    "for tweet in data['tweets']: # data is the variable in which loaded json dataset is stored as a list.\n",
    "    # tweet variable holds a single tweet (single element of the dictionary 'tweet')\n",
    "    # a single tweet (dictionary element) is loaded in a single iteration of the for loop\n",
    "    # this for loop iterates through the dictionary 'tweet' in the list 'data'\n",
    "    try: # there may be some tweets containing no \"text\" field. In that case, accessing the dictionary\n",
    "         # using the key 'text' will result in error and the program will stop. To prevent the\n",
    "         # program from stopping, try-except block has been used. When such a tweet is encountered,\n",
    "         # the program will go to the except block, in which there is a \"pass\" statement which directs\n",
    "            # the system to proceed further without stopping.\n",
    "        \n",
    "    \n",
    "        # remove URLs\n",
    "        prepTw = re.sub(r'((www\\.[^\\s]+)|(https?://[^\\s]+)|(http?://[^\\s]+))', '', tweet['text'])\n",
    "        prepTw = re.sub(r'http\\S+', '', prepTw)\n",
    "    \n",
    "        # remove usernames\n",
    "        prepTw = re.sub(r'@[^\\s]+', ' ', prepTw)\n",
    "    \n",
    "        # remove #hashtag\n",
    "        prepTw = re.sub(r'#([^\\s]+)', ' ', prepTw)\n",
    "    \n",
    "        # Remove punctuation\n",
    "        prepTw = [char for char in prepTw if char not in string.punctuation]\n",
    "        # Join the characters again to form the string after removing punctuations.\n",
    "        prepTw = ''.join(prepTw)\n",
    "    \n",
    "        # Get sentiment score using TextBlob\n",
    "        # prepTw variable stores preprocessed tweet text of a single tweet. It is passed to the TextBlob\n",
    "        # function to get sentiment score. The variable blob contains the text, as well as it sentiment\n",
    "        # score which can be accessed from \"blob.sentiment[0]\"\n",
    "        blob = TextBlob(prepTw)\n",
    "        #print(blob)\n",
    "        #print(blob.sentiment[0])\n",
    "        \n",
    "        # if sentiment is positive, increase the positive tweets counter by one.\n",
    "        if blob.sentiment[0]>0:\n",
    "            pSentiment += 1\n",
    "        # else if, the sentiment is negative, increase the negative tweets counter by one.\n",
    "        elif blob.sentiment[0]<0:\n",
    "            nSentiment += 1\n",
    "        # being here, means that the tweet is neither positive nor negative, and it is neutral.\n",
    "        # hence increase the neutral tweets counter by one.\n",
    "        else:\n",
    "            neutralS += 1\n",
    "        \n",
    "        # elif block ends here\n",
    "        testCounter += 1 # after checking the condition, increase the tweets counter by one.\n",
    "        #print(\".\", end =\"\")\n",
    "        #print(\"Processed #tweets\" + str(testCounter))\n",
    "    except Exception: # if the tweet doesn't contain a text field\n",
    "        testCounter += 1 # increase the number of processed tweets by one\n",
    "        pass # proceed to another iteration of the for loop\n",
    "    \n",
    "    # try-except block ends here\n",
    "    # display the progress. If 10000 tweets have been processed, the following condition will evaluate\n",
    "    # to true and the if statement will be evaluated.\n",
    "    if (testCounter % 10000 == 0):\n",
    "        # print a single dot(.) The end=\"\" argument to the print statement directs the system to\n",
    "        # avoid a line break after default print statement, so that multiple dots get printed on the\n",
    "        # same line. Printing a single dot means that 10000 tweets have been prosessed.\n",
    "        print(\".\", end =\"\")\n",
    "    #    break\n",
    "        #testCounter *= 10000\n",
    "print() # print a single empty line after dots.\n",
    "print(\"positive sentiments: \" + str(pSentiment)) # print number of tweets having positive sentiment\n",
    "print(\"negative sentiments: \" + str(nSentiment)) # print number of tweets having negative sentiment\n",
    "print(\"neutral sentiments: \" + str(neutralS)) # print number of tweets having neutral sentiment\n",
    "\n",
    "# Try to add the code to print the blob and blob.sentiment[0] to a csv file.\n",
    "# Hint:- The statement to open the csv file (with open ...) line should be placed before the for loop.\n",
    "# The writerow function should be put in each of the elif statement block for writing a single row\n",
    "# to the csv file."
   ]
  },
  {
   "cell_type": "code",
   "execution_count": 42,
   "metadata": {},
   "outputs": [],
   "source": [
    "# code to write data to the csv file.\n",
    "#import csv\n",
    "#with open('tweets1.csv', 'a', newline='') as file:\n",
    "    #writer = csv.writer(file)\n",
    "    #writer.writerow([blob, blob.sentiment[0]])"
   ]
  },
  {
   "cell_type": "code",
   "execution_count": null,
   "metadata": {},
   "outputs": [],
   "source": []
  },
  {
   "cell_type": "code",
   "execution_count": null,
   "metadata": {},
   "outputs": [],
   "source": []
  },
  {
   "cell_type": "code",
   "execution_count": null,
   "metadata": {},
   "outputs": [],
   "source": []
  },
  {
   "cell_type": "code",
   "execution_count": null,
   "metadata": {},
   "outputs": [],
   "source": []
  },
  {
   "cell_type": "code",
   "execution_count": null,
   "metadata": {},
   "outputs": [],
   "source": []
  },
  {
   "cell_type": "code",
   "execution_count": null,
   "metadata": {},
   "outputs": [],
   "source": []
  },
  {
   "cell_type": "code",
   "execution_count": null,
   "metadata": {},
   "outputs": [],
   "source": []
  },
  {
   "cell_type": "code",
   "execution_count": null,
   "metadata": {},
   "outputs": [],
   "source": []
  },
  {
   "cell_type": "code",
   "execution_count": null,
   "metadata": {},
   "outputs": [],
   "source": []
  },
  {
   "cell_type": "code",
   "execution_count": null,
   "metadata": {},
   "outputs": [],
   "source": []
  },
  {
   "cell_type": "code",
   "execution_count": null,
   "metadata": {},
   "outputs": [],
   "source": []
  },
  {
   "cell_type": "code",
   "execution_count": null,
   "metadata": {},
   "outputs": [],
   "source": []
  },
  {
   "cell_type": "code",
   "execution_count": null,
   "metadata": {},
   "outputs": [],
   "source": []
  },
  {
   "cell_type": "code",
   "execution_count": null,
   "metadata": {},
   "outputs": [],
   "source": []
  },
  {
   "cell_type": "code",
   "execution_count": null,
   "metadata": {},
   "outputs": [],
   "source": []
  },
  {
   "cell_type": "code",
   "execution_count": null,
   "metadata": {},
   "outputs": [],
   "source": []
  },
  {
   "cell_type": "code",
   "execution_count": null,
   "metadata": {},
   "outputs": [],
   "source": []
  },
  {
   "cell_type": "code",
   "execution_count": null,
   "metadata": {},
   "outputs": [],
   "source": []
  },
  {
   "cell_type": "code",
   "execution_count": null,
   "metadata": {},
   "outputs": [],
   "source": []
  },
  {
   "cell_type": "code",
   "execution_count": null,
   "metadata": {},
   "outputs": [],
   "source": []
  },
  {
   "cell_type": "code",
   "execution_count": null,
   "metadata": {},
   "outputs": [],
   "source": []
  },
  {
   "cell_type": "code",
   "execution_count": null,
   "metadata": {},
   "outputs": [],
   "source": []
  },
  {
   "cell_type": "code",
   "execution_count": null,
   "metadata": {},
   "outputs": [],
   "source": []
  },
  {
   "cell_type": "code",
   "execution_count": null,
   "metadata": {},
   "outputs": [],
   "source": []
  },
  {
   "cell_type": "code",
   "execution_count": null,
   "metadata": {},
   "outputs": [],
   "source": []
  },
  {
   "cell_type": "code",
   "execution_count": null,
   "metadata": {},
   "outputs": [],
   "source": []
  },
  {
   "cell_type": "code",
   "execution_count": null,
   "metadata": {},
   "outputs": [],
   "source": []
  },
  {
   "cell_type": "code",
   "execution_count": null,
   "metadata": {},
   "outputs": [],
   "source": []
  },
  {
   "cell_type": "code",
   "execution_count": null,
   "metadata": {},
   "outputs": [],
   "source": []
  },
  {
   "cell_type": "code",
   "execution_count": null,
   "metadata": {},
   "outputs": [],
   "source": []
  },
  {
   "cell_type": "code",
   "execution_count": null,
   "metadata": {},
   "outputs": [],
   "source": []
  },
  {
   "cell_type": "code",
   "execution_count": null,
   "metadata": {},
   "outputs": [],
   "source": []
  },
  {
   "cell_type": "code",
   "execution_count": null,
   "metadata": {},
   "outputs": [],
   "source": []
  },
  {
   "cell_type": "code",
   "execution_count": null,
   "metadata": {},
   "outputs": [],
   "source": []
  },
  {
   "cell_type": "code",
   "execution_count": null,
   "metadata": {},
   "outputs": [],
   "source": []
  },
  {
   "cell_type": "code",
   "execution_count": null,
   "metadata": {},
   "outputs": [],
   "source": []
  },
  {
   "cell_type": "code",
   "execution_count": null,
   "metadata": {},
   "outputs": [],
   "source": []
  },
  {
   "cell_type": "code",
   "execution_count": null,
   "metadata": {},
   "outputs": [],
   "source": []
  },
  {
   "cell_type": "code",
   "execution_count": null,
   "metadata": {},
   "outputs": [],
   "source": []
  },
  {
   "cell_type": "code",
   "execution_count": null,
   "metadata": {},
   "outputs": [],
   "source": []
  },
  {
   "cell_type": "code",
   "execution_count": null,
   "metadata": {},
   "outputs": [],
   "source": []
  },
  {
   "cell_type": "code",
   "execution_count": null,
   "metadata": {},
   "outputs": [],
   "source": []
  },
  {
   "cell_type": "code",
   "execution_count": null,
   "metadata": {},
   "outputs": [],
   "source": []
  },
  {
   "cell_type": "code",
   "execution_count": null,
   "metadata": {},
   "outputs": [],
   "source": []
  },
  {
   "cell_type": "code",
   "execution_count": null,
   "metadata": {},
   "outputs": [],
   "source": []
  },
  {
   "cell_type": "code",
   "execution_count": null,
   "metadata": {},
   "outputs": [],
   "source": []
  },
  {
   "cell_type": "code",
   "execution_count": null,
   "metadata": {},
   "outputs": [],
   "source": []
  },
  {
   "cell_type": "code",
   "execution_count": null,
   "metadata": {},
   "outputs": [],
   "source": []
  },
  {
   "cell_type": "code",
   "execution_count": null,
   "metadata": {},
   "outputs": [],
   "source": []
  },
  {
   "cell_type": "code",
   "execution_count": null,
   "metadata": {},
   "outputs": [],
   "source": []
  },
  {
   "cell_type": "code",
   "execution_count": null,
   "metadata": {},
   "outputs": [],
   "source": []
  },
  {
   "cell_type": "code",
   "execution_count": null,
   "metadata": {},
   "outputs": [],
   "source": []
  },
  {
   "cell_type": "code",
   "execution_count": null,
   "metadata": {},
   "outputs": [],
   "source": []
  }
 ],
 "metadata": {
  "kernelspec": {
   "display_name": "Python 3",
   "language": "python",
   "name": "python3"
  },
  "language_info": {
   "codemirror_mode": {
    "name": "ipython",
    "version": 3
   },
   "file_extension": ".py",
   "mimetype": "text/x-python",
   "name": "python",
   "nbconvert_exporter": "python",
   "pygments_lexer": "ipython3",
   "version": "3.7.3"
  }
 },
 "nbformat": 4,
 "nbformat_minor": 2
}
